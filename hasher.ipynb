{
 "cells": [
  {
   "cell_type": "markdown",
   "metadata": {
    "collapsed": false
   },
   "source": [
    "## Blockchain project\n",
    "\n",
    "In this project the student will write code to create a simple blockchain.\n",
    "\n",
    "The ingredients of a blockchain are a hash linked list and proof of work.\n",
    "\n",
    "We explain both concepts below, and then give the definition of a blockchain.\n",
    "\n",
    "We assume that we have a hash function H that satisfies the properties of a secure hash, namely\n",
    "\n",
    "* Collision resistance\n",
    "* Preimage resistance\n",
    "* Second preimage resistance\n",
    "\n",
    "\n",
    "### Hash linked list\n",
    "\n",
    "One of the basic ingredients in a blockchain is a hash linked list.\n",
    "\n",
    "Imagine a series of messages $M_0,M_1,\\ldots,M_n$ where $M_i$ contains a hash of $M_{i-1}$.\n",
    "\n",
    "Then if $M_i$ is altered, the hashes in $M_{i+1},M_{i+2},\\ldots,M_n$ must be recomputed.\n",
    "\n",
    "\n",
    "### Proof of work\n",
    "\n",
    "Another basic ingredient of a blockchain is proof of work.  \n",
    "\n",
    "**Example:**  You are asked to provide a file $F$ such that $H(F)$ begins with 24 zero bits.\n",
    "\n",
    "If H is secure, the only way to do this is brute force random search.\n",
    "\n",
    "You can include in F a number (called a nonce) that is adjusted until the condition is met.\n",
    "\n",
    "Note that F may also contain other information.\n",
    "\n",
    "Thus H(F) proves that a certain amount of work has been done to find $F$  (about $2^{24}$ hashes in this example).\n",
    "\n",
    "\n",
    "### A real blockchain\n",
    "\n",
    "Consider a hash linked list in which each message contains a nonce.\n",
    "\n",
    "The nonces are adjusted so that $H(M_i)$ always begins with 24 zero bits for each $i=1,2,\\ldots,n$.\n",
    "\n",
    "Now if $M_i$ is altered, the hashes in $M_{i+1},M_{i+2},\\ldots,M_n$ must be recomputed.\n",
    "\n",
    "But now this takes a lot of work, because $H(M_i)$ must be small and the corresponding nonces must be found through brute force search.\n",
    "\n",
    "If enough work is required and the chain is long enough, it is infeasible to ever modify the deep parts of the chain.\n",
    "\n",
    "\n"
   ]
  },
  {
   "cell_type": "code",
   "execution_count": 98,
   "metadata": {
    "collapsed": false,
    "scrolled": true
   },
   "outputs": [
    {
     "name": "stdout",
     "output_type": "stream",
     "text": [
      "Hashing this data:\n",
      "\n",
      "Data: Hunter Johnson\n",
      "Nonce: 23844253449463976384357805956163882646\n",
      "PrevHash: 0\n",
      "\n",
      "09cf18f7f76ef45a51cf2912358c52bf8490855b68d5d42d6f54f835a80e9af7\n",
      "\n",
      "Writing same data to file...\n",
      "Hash of the file using sha256sum on command line (should be the same as the above):\n",
      "\n",
      "09cf18f7f76ef45a51cf2912358c52bf8490855b68d5d42d6f54f835a80e9af7\r\n"
     ]
    }
   ],
   "source": [
    "\"\"\"\n",
    "This is a warm up with the basic operations in python needed to create a blockchain.\n",
    "In other words, we show how to hash in python. \n",
    "(provided to the student)\n",
    "\n",
    "We make a \"block\" such as we might have in a blockchain.\n",
    "\n",
    "For example:\n",
    "\n",
    "Data: Hunter Johnson\n",
    "Nonce: 23844253449463976384357805956163882646\n",
    "PrevHash: 0\n",
    "\n",
    "Then we hash it.\n",
    "\n",
    "We also write the block to a file and hash from the command line.\n",
    "This makes sure that the hash of the block (as a string) is the same\n",
    "as the hash of the block (as a file). \n",
    "\n",
    "\"\"\"\n",
    "\n",
    "import hashlib\n",
    "\n",
    "import random\n",
    "dataline=\"Data: Hunter Johnson\\n\"\n",
    "nonceline = \"Nonce: {}\\n\".format(random.randint(0,2**128))\n",
    "prevhash = 0\n",
    "prevhashline = \"PrevHash: {}\\n\".format(prevhash)\n",
    "\n",
    "string2hash = dataline+nonceline+prevhashline\n",
    "print(\"Hashing this data:\\n\\n{}\".format(string2hash))\n",
    "string2hash = string2hash.encode()\n",
    "h=hashlib.sha256()\n",
    "h.update(string2hash)\n",
    "D=h.digest()\n",
    "print(\"{}\".format(D.hex()))\n",
    "\n",
    "\n",
    "print(\"\\nWriting same data to file...\")\n",
    "fp = open(\"testblock.txt\",\"w\")\n",
    "fp.write(string2hash.decode())\n",
    "fp.close()\n",
    "\n",
    "\n",
    "## The following assumes that sha256sum is installed!\n",
    "print(\"Hash of the file using sha256sum on command line (should be the same as the above):\\n\")\n",
    "\n",
    "!sha256sum testblock.txt | awk '{print $1}'\n"
   ]
  },
  {
   "cell_type": "code",
   "execution_count": 111,
   "metadata": {
    "code_folding": [
    ],
    "collapsed": false
   },
   "outputs": [
   ],
   "source": [
    "\"\"\"Takes: data, nonce, and previous hash\n",
    "   Returns: an encoded string of the form\n",
    "   \n",
    "   Data: <data>\n",
    "   Nonce: <nonce>\n",
    "   PrevHash: <prevhash>\n",
    "   \n",
    "   The string ends in a newline.\n",
    "\"\"\"\n",
    "def  makeblock(data,nonce,prevhash):\n",
    "    dataline=\"Data: {}\\n\".format(data)\n",
    "    nonceline = \"Nonce: {}\\n\".format(nonce)\n",
    "    prevhashline = \"PrevHash: {}\\n\".format(prevhash)\n",
    "    string2hash = dataline+nonceline+prevhashline\n",
    "    return string2hash.encode()\n",
    "\n",
    "\"\"\"Takes: An encoded string of the form returned by makeblock\n",
    "   Returns: The sha256 digest of the string as a hex string\n",
    "\"\"\"\n",
    "def hashblock(block):\n",
    "    h=hashlib.sha256()\n",
    "    h.update(block)\n",
    "    D=h.digest()\n",
    "    return D.hex()\n",
    "\n",
    "import math\n",
    "\n",
    "\"\"\"Takes: The data portion of a block, the hash of the previous block, and the desired difficulty.\n",
    "   Returns: The output of makeblock for the given data and prevhash, with appropriate nonce. \n",
    "            The block must meet the given difficulty requirement (ie have a small hash).\n",
    "   Also returned: The hash of the block returned.\n",
    "   \n",
    "   Meaning of \"difficulty\": Let N be the numerical value of the hash of the block.\n",
    "   Then the nonce is selected so that the base-2 logarithm of N is <= difficulty.\n",
    "\"\"\"\n",
    "def mineblock(data,prevhash,difficulty=232):\n",
    "    hbnum = 2**256\n",
    "    while math.log(hbnum,2)>difficulty:\n",
    "        r = random.randint(0,2**80)\n",
    "        #\n",
    "        # Put code here that tries to mine the block\n",
    "        #\n",
    "        #\n",
    "    return block,hb\n",
    "\n",
    "\"\"\"Takes: A filename and a block as an encoded string.\n",
    "   Returns: Nothing\n",
    "   Effect: writes the block *as text* to the named file.\n",
    "\"\"\"\n",
    "def writeblock(filename,block):\n",
    "    fp = open(filename,\"w\")\n",
    "    fp.write(block.decode())\n",
    "    fp.close()  \n",
    "    \n",
    "    \n",
    "\"\"\"Takes: A filename\n",
    "   Returns: the text inside the file *as text*.\n",
    "\"\"\"    \n",
    "def readblock(filename):\n",
    "    fp=open(filename,\"r\")\n",
    "    block = fp.read()\n",
    "    fp.close()\n",
    "    return block"
   ]
  },
  {
   "cell_type": "code",
   "execution_count": 120,
   "metadata": {
    "collapsed": false
   },
   "outputs": [
    {
     "name": "stdout",
     "output_type": "stream",
     "text": [
      "CPU times: user 5min 30s, sys: 5.24 ms, total: 5min 30s\n",
      "Wall time: 5min 31s\n"
     ]
    }
   ],
   "source": [
    "\"\"\"\n",
    "This creates a sample blockchain with the default difficulty and silly messages.\n",
    "\n",
    "Depending on the difficulty level this may take a long time.\n",
    "\n",
    "It takes on the order of 5 minutes on my machine.\n",
    "\n",
    "The blockchain files are created in the current directory.\n",
    "\n",
    "\"\"\"\n",
    "\n",
    "def makechain():\n",
    "    block,blockhash=mineblock(\"<your name here>\",0)\n",
    "    writeblock(\"B1.txt\",block)\n",
    "    block,blockhash=mineblock(\"Financial Weirdness\",blockhash)\n",
    "    writeblock(\"B2.txt\",block)\n",
    "    block,blockhash=mineblock(\"I'm a nutjob\",blockhash)\n",
    "    writeblock(\"B3.txt\",block)\n",
    "    block,blockhash=mineblock(\"Buy ravens now while you can!\",blockhash)\n",
    "    writeblock(\"B4.txt\",block)\n",
    "    block,blockhash=mineblock(\"Invest in used cars\",blockhash)\n",
    "    writeblock(\"B5.txt\",block)\n",
    "    \n",
    "%time makechain()    "
   ]
  },
  {
   "cell_type": "code",
   "execution_count": 0,
   "metadata": {
    "collapsed": false
   },
   "outputs": [
   ],
   "source": [
    "\"\"\"  ## The time to run the C++ version\n",
    "real\t29m1.781s\n",
    "user\t29m1.650s\n",
    "sys\t0m0.016s\n",
    "\"\"\"\n",
    "pass"
   ]
  },
  {
   "cell_type": "code",
   "execution_count": 109,
   "metadata": {
    "collapsed": false
   },
   "outputs": [
   ],
   "source": [
    "\"\"\"\n",
    "This function validates a blockchain by verifying that \n",
    "\n",
    "1) The chain forms a hash linked list, and\n",
    "2) The hashes meet the difficulty specification\n",
    "\n",
    "The variable \"chain\" is a list of filenames, which give the blockchain blocks in proper order.\n",
    "\n",
    "\"\"\"\n",
    "\n",
    "def validate(chain,difficulty=232):\n",
    "    if len(chain)==0:\n",
    "        return True\n",
    "    genesis=chain[0]\n",
    "    gblock = readblock(genesis)\n",
    "    prevhash = hashblock(gblock.encode())\n",
    "    if math.log(int(prevhash,16),2)>difficulty:\n",
    "        print(\"Difficulty of {} not met in block\\n{}\".format(difficulty,gblock))\n",
    "        return False\n",
    "    for bfile in chain[1:]:\n",
    "        block = readblock(bfile)\n",
    "        loc=block.find(\"PrevHash: \")\n",
    "        claimedprevhash=block[loc+len(\"PrevHash: \"):loc+len(\"PrevHash: \")+64]\n",
    "        if prevhash != claimedprevhash:\n",
    "            print(\"Chain breaks at {}\".format(bfile))\n",
    "            print(\"Claimed prev hash is {} but prev hash is {}\".format(claimedprevhash,prevhash))\n",
    "            return False\n",
    "        prevhash=hashblock(block.encode())\n",
    "        if math.log(int(prevhash,16),2)>difficulty:\n",
    "            print(\"Difficulty of {} not met in block {}\".format(difficulty,gblock))\n",
    "            return False\n",
    "    return True"
   ]
  },
  {
   "cell_type": "code",
   "execution_count": 117,
   "metadata": {
    "collapsed": false
   },
   "outputs": [
    {
     "name": "stdout",
     "output_type": "stream",
     "text": [
      "Chain breaks at C5.txt\n",
      "Claimed prev hash is 000001fb1087ec2cfaca9f916204a9b49a59aaf85dd49679d991580cab2c76f7 but prev hash is 0000005a314b0029b9d7547dbbe34baa0389fda9eea78f5c512a93c8d1879cb8\n"
     ]
    },
    {
     "data": {
      "text/plain": [
       "False"
      ]
     },
     "execution_count": 117,
     "metadata": {
     },
     "output_type": "execute_result"
    }
   ],
   "source": [
    "validate([\"C1.txt\",\"C2.txt\",\"C3.txt\",\"C4.txt\",\"C5.txt\"])"
   ]
  },
  {
   "cell_type": "code",
   "execution_count": 0,
   "metadata": {
    "collapsed": false
   },
   "outputs": [
   ],
   "source": [
   ]
  }
 ],
 "metadata": {
  "kernelspec": {
   "display_name": "Python 3 (system-wide)",
   "language": "python",
   "metadata": {
    "cocalc": {
     "description": "Python 3 programming language",
     "priority": 100,
     "url": "https://www.python.org/"
    }
   },
   "name": "python3",
   "resource_dir": "/ext/jupyter/kernels/python3"
  },
  "language_info": {
   "codemirror_mode": {
    "name": "ipython",
    "version": 3
   },
   "file_extension": ".py",
   "mimetype": "text/x-python",
   "name": "python",
   "nbconvert_exporter": "python",
   "pygments_lexer": "ipython3",
   "version": "3.8.5"
  }
 },
 "nbformat": 4,
 "nbformat_minor": 4
}